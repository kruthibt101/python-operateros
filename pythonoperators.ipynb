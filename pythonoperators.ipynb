{
 "cells": [
  {
   "cell_type": "markdown",
   "id": "2b7261f0-2086-4a8d-84fc-54ea0644f519",
   "metadata": {},
   "source": [
    "Assignment\n",
    "1.Calculate the sum, difference, product, and quotient of two numbers.\n",
    "Consider two number 10 and 5 using these two number we are going to arthematic operation which are given above."
   ]
  },
  {
   "cell_type": "code",
   "execution_count": 1,
   "id": "6f2a1797-6ae4-421a-9899-ed71b564d35a",
   "metadata": {},
   "outputs": [
    {
     "data": {
      "text/plain": [
       "15"
      ]
     },
     "execution_count": 1,
     "metadata": {},
     "output_type": "execute_result"
    }
   ],
   "source": [
    "#ex\n",
    "a = 10 \n",
    "b = 5\n",
    "a+b"
   ]
  },
  {
   "cell_type": "code",
   "execution_count": 2,
   "id": "1b20c2e0-00b4-4f59-8b07-8515fc46d21d",
   "metadata": {},
   "outputs": [
    {
     "data": {
      "text/plain": [
       "5"
      ]
     },
     "execution_count": 2,
     "metadata": {},
     "output_type": "execute_result"
    }
   ],
   "source": [
    "a = 10 \n",
    "b = 5\n",
    "a-b"
   ]
  },
  {
   "cell_type": "code",
   "execution_count": 3,
   "id": "927cfdff-edc6-482b-9f55-fb3b7f007a61",
   "metadata": {},
   "outputs": [
    {
     "data": {
      "text/plain": [
       "50"
      ]
     },
     "execution_count": 3,
     "metadata": {},
     "output_type": "execute_result"
    }
   ],
   "source": [
    "a = 10 \n",
    "b = 5\n",
    "a*b"
   ]
  },
  {
   "cell_type": "code",
   "execution_count": 4,
   "id": "f2ffd84f-1264-4e5d-9475-7b10f8ee26d2",
   "metadata": {},
   "outputs": [
    {
     "data": {
      "text/plain": [
       "2.0"
      ]
     },
     "execution_count": 4,
     "metadata": {},
     "output_type": "execute_result"
    }
   ],
   "source": [
    "a = 10 \n",
    "b = 5\n",
    "a/b"
   ]
  },
  {
   "cell_type": "markdown",
   "id": "f1e03365-18c0-4f5e-8c0a-bc9c478a3a10",
   "metadata": {},
   "source": [
    "2.Perform various assignment operations on a variable.\n",
    "In assignment operator first we can assign value to operator then after getting value we can reassign a values and store."
   ]
  },
  {
   "cell_type": "code",
   "execution_count": 5,
   "id": "f21424bc-9ded-4340-b155-d9dfc646c9f2",
   "metadata": {},
   "outputs": [
    {
     "data": {
      "text/plain": [
       "30"
      ]
     },
     "execution_count": 5,
     "metadata": {},
     "output_type": "execute_result"
    }
   ],
   "source": [
    "#ex;\n",
    "x = 30\n",
    "x"
   ]
  },
  {
   "cell_type": "code",
   "execution_count": 6,
   "id": "ed02ce38-04af-431e-8031-76428c32e9bd",
   "metadata": {},
   "outputs": [
    {
     "data": {
      "text/plain": [
       "35"
      ]
     },
     "execution_count": 6,
     "metadata": {},
     "output_type": "execute_result"
    }
   ],
   "source": [
    "x + 5"
   ]
  },
  {
   "cell_type": "code",
   "execution_count": 8,
   "id": "d1e12436-fcea-4905-b5ae-6fc894b7dad6",
   "metadata": {},
   "outputs": [
    {
     "data": {
      "text/plain": [
       "40"
      ]
     },
     "execution_count": 8,
     "metadata": {},
     "output_type": "execute_result"
    }
   ],
   "source": [
    "x += 5\n",
    "x"
   ]
  },
  {
   "cell_type": "code",
   "execution_count": 9,
   "id": "66252739-abcf-4d95-951f-5a6aa3696f3e",
   "metadata": {},
   "outputs": [
    {
     "data": {
      "text/plain": [
       "8100"
      ]
     },
     "execution_count": 9,
     "metadata": {},
     "output_type": "execute_result"
    }
   ],
   "source": [
    "m = 90\n",
    "m *= 90\n",
    "m"
   ]
  },
  {
   "cell_type": "code",
   "execution_count": 11,
   "id": "687d8b6c",
   "metadata": {},
   "outputs": [],
   "source": [
    "h = 30\n",
    "h /= 10\n",
    "h"
   ]
  },
  {
   "cell_type": "code",
   "execution_count": null,
   "id": "fbda60d4-20d4-439d-ac8a-f5c6a324dfc1",
   "metadata": {},
   "outputs": [],
   "source": [
    "h = 30\n",
    "h /= 10\n",
    "h"
   ]
  },
  {
   "cell_type": "markdown",
   "id": "be157438-50fe-4f4e-b451-179ed45b9617",
   "metadata": {},
   "source": [
    "3.Compare two numbers and print the results.\n",
    "It is used to compare two values and returns Boolean values\n",
    "We have so many comparison operates like = ,<,>,<=,>= etc..."
   ]
  },
  {
   "cell_type": "code",
   "execution_count": 12,
   "id": "6a5e4301-7a49-40cb-9812-60b8e8d3336a",
   "metadata": {},
   "outputs": [
    {
     "data": {
      "text/plain": [
       "True"
      ]
     },
     "execution_count": 12,
     "metadata": {},
     "output_type": "execute_result"
    }
   ],
   "source": [
    "2 == 2"
   ]
  },
  {
   "cell_type": "code",
   "execution_count": 14,
   "id": "3c1ab804-140d-4930-9fc2-144be63c4df9",
   "metadata": {},
   "outputs": [
    {
     "data": {
      "text/plain": [
       "True"
      ]
     },
     "execution_count": 14,
     "metadata": {},
     "output_type": "execute_result"
    }
   ],
   "source": [
    "3!=32 != 4"
   ]
  },
  {
   "cell_type": "code",
   "execution_count": 14,
   "id": "82712af7",
   "metadata": {},
   "outputs": [
    {
     "data": {
      "text/plain": [
       "True"
      ]
     },
     "execution_count": 14,
     "metadata": {},
     "output_type": "execute_result"
    }
   ],
   "source": [
    "3!=32 != 4"
   ]
  },
  {
   "cell_type": "code",
   "execution_count": 15,
   "id": "7d7d94af-4599-4c1b-a63e-3aa09c0ca757",
   "metadata": {},
   "outputs": [
    {
     "data": {
      "text/plain": [
       "False"
      ]
     },
     "execution_count": 15,
     "metadata": {},
     "output_type": "execute_result"
    }
   ],
   "source": [
    "4 < 1"
   ]
  },
  {
   "cell_type": "code",
   "execution_count": 16,
   "id": "77706238-64d1-4b56-a2ca-a0f394b7971a",
   "metadata": {},
   "outputs": [
    {
     "data": {
      "text/plain": [
       "True"
      ]
     },
     "execution_count": 16,
     "metadata": {},
     "output_type": "execute_result"
    }
   ],
   "source": [
    "4 <=6"
   ]
  },
  {
   "cell_type": "markdown",
   "id": "8b8b46e4-eafb-440a-8309-23a38d675cb5",
   "metadata": {},
   "source": [
    "5.Check the identity of variables.\n",
    "Identity operator which compare the memory location of two objects."
   ]
  },
  {
   "cell_type": "code",
   "execution_count": 17,
   "id": "fda1428b-cc8d-47b4-b51f-f6fc14d6e62f",
   "metadata": {},
   "outputs": [
    {
     "data": {
      "text/plain": [
       "False"
      ]
     },
     "execution_count": 17,
     "metadata": {},
     "output_type": "execute_result"
    }
   ],
   "source": [
    "#ex\n",
    "n = 33\n",
    "m = 44\n",
    "n is m"
   ]
  },
  {
   "cell_type": "code",
   "execution_count": 18,
   "id": "2480e5f8-e335-457c-a8be-f6a8149faf6f",
   "metadata": {},
   "outputs": [
    {
     "data": {
      "text/plain": [
       "True"
      ]
     },
     "execution_count": 18,
     "metadata": {},
     "output_type": "execute_result"
    }
   ],
   "source": [
    "l = 99\n",
    "p = l\n",
    "p is l"
   ]
  },
  {
   "cell_type": "markdown",
   "id": "1e7bb5e4-7355-42e8-afc2-e01699b512db",
   "metadata": {},
   "source": [
    "6.Perform bitwise operations on any two integers.\n",
    "It’s operation at bit level."
   ]
  },
  {
   "cell_type": "code",
   "execution_count": 19,
   "id": "af683d93-52d7-4aef-8301-75a9297b9585",
   "metadata": {},
   "outputs": [
    {
     "data": {
      "text/plain": [
       "12"
      ]
     },
     "execution_count": 19,
     "metadata": {},
     "output_type": "execute_result"
    }
   ],
   "source": [
    "12 & 44"
   ]
  },
  {
   "cell_type": "code",
   "execution_count": 20,
   "id": "649d8d5f-b191-4094-bb45-1b7fff3e93db",
   "metadata": {},
   "outputs": [
    {
     "data": {
      "text/plain": [
       "32"
      ]
     },
     "execution_count": 20,
     "metadata": {},
     "output_type": "execute_result"
    }
   ],
   "source": [
    "44 & 99"
   ]
  },
  {
   "cell_type": "code",
   "execution_count": 21,
   "id": "4044b6a0-71c4-4f30-acb3-75bbcb8d4149",
   "metadata": {},
   "outputs": [
    {
     "data": {
      "text/plain": [
       "1"
      ]
     },
     "execution_count": 21,
     "metadata": {},
     "output_type": "execute_result"
    }
   ],
   "source": [
    "9 & 3"
   ]
  },
  {
   "cell_type": "markdown",
   "id": "d477731f-c327-45f9-93b7-7de03374e27a",
   "metadata": {},
   "source": [
    "7.Use unary operators to change the sign of a number.\n",
    "\tA unary operation is an operation with one operand.\n",
    "It’s include +,-"
   ]
  },
  {
   "cell_type": "code",
   "execution_count": 22,
   "id": "ca87473e-04de-4653-86b8-cf3007d27f55",
   "metadata": {},
   "outputs": [
    {
     "name": "stdout",
     "output_type": "stream",
     "text": [
      "6\n"
     ]
    }
   ],
   "source": [
    "#ex\n",
    "print(+6)"
   ]
  },
  {
   "cell_type": "code",
   "execution_count": 23,
   "id": "aae0547c-a3cc-43e6-9794-4757b6ab13d5",
   "metadata": {},
   "outputs": [
    {
     "name": "stdout",
     "output_type": "stream",
     "text": [
      "-8.9\n"
     ]
    }
   ],
   "source": [
    "print(-8.9)"
   ]
  },
  {
   "cell_type": "code",
   "execution_count": null,
   "id": "69614a7a-e0ee-472a-995c-ea0d5a6eb67e",
   "metadata": {},
   "outputs": [],
   "source": []
  },
  {
   "cell_type": "code",
   "execution_count": null,
   "id": "0f219f42-16d3-4b02-9a31-db99f3306476",
   "metadata": {},
   "outputs": [],
   "source": []
  },
  {
   "cell_type": "code",
   "execution_count": null,
   "id": "94a34541-5d0d-4936-a12a-1581d13f9172",
   "metadata": {},
   "outputs": [],
   "source": []
  },
  {
   "cell_type": "code",
   "execution_count": null,
   "id": "b6c002c6-8f38-45df-bc05-dcd853dbcbea",
   "metadata": {},
   "outputs": [],
   "source": []
  }
 ],
 "metadata": {
  "kernelspec": {
   "display_name": "Python 3 (ipykernel)",
   "language": "python",
   "name": "python3"
  },
  "language_info": {
   "codemirror_mode": {
    "name": "ipython",
    "version": 3
   },
   "file_extension": ".py",
   "mimetype": "text/x-python",
   "name": "python",
   "nbconvert_exporter": "python",
   "pygments_lexer": "ipython3",
   "version": "3.10.8"
  }
 },
 "nbformat": 4,
 "nbformat_minor": 5
}
